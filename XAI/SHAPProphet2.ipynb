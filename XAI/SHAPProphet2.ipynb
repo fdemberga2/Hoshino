{
 "cells": [
  {
   "cell_type": "markdown",
   "metadata": {
    "nteract": {
     "transient": {
      "deleting": false
     }
    }
   },
   "source": [
    "##### Import and Defining Functions"
   ]
  },
  {
   "cell_type": "code",
   "execution_count": 2,
   "metadata": {
    "gather": {
     "logged": 1730312082589
    },
    "jupyter": {
     "outputs_hidden": false,
     "source_hidden": false
    },
    "nteract": {
     "transient": {
      "deleting": false
     }
    }
   },
   "outputs": [
    {
     "name": "stderr",
     "output_type": "stream",
     "text": [
      "C:\\Users\\Arcega\\AppData\\Local\\Packages\\PythonSoftwareFoundation.Python.3.10_qbz5n2kfra8p0\\LocalCache\\local-packages\\Python310\\site-packages\\tqdm\\auto.py:21: TqdmWarning:\n",
      "\n",
      "IProgress not found. Please update jupyter and ipywidgets. See https://ipywidgets.readthedocs.io/en/stable/user_install.html\n",
      "\n"
     ]
    }
   ],
   "source": [
    "# Import Required Libraries\n",
    "\n",
    "import pandas as pd\n",
    "import math\n",
    "import numpy as np\n",
    "\n",
    "import matplotlib.pyplot as plt\n",
    "\n",
    "import plotly.graph_objs as go\n",
    "from plotly.offline import iplot\n",
    "\n",
    "from prophet import Prophet\n",
    "import holidays\n",
    "from prophet.diagnostics import cross_validation\n",
    "from sklearn.metrics import mean_squared_error, mean_absolute_error, r2_score\n",
    "\n",
    "import tensorflow as tf\n",
    "import os\n",
    "\n",
    "from sklearn.model_selection import train_test_split\n",
    "\n",
    "import shap"
   ]
  },
  {
   "cell_type": "code",
   "execution_count": 3,
   "metadata": {
    "gather": {
     "logged": 1730110402384
    },
    "jupyter": {
     "outputs_hidden": false,
     "source_hidden": false
    },
    "nteract": {
     "transient": {
      "deleting": false
     }
    }
   },
   "outputs": [],
   "source": [
    "def is_weekend(ds):\n",
    "    date = pd.to_datetime(ds)\n",
    "    # Return True for Saturday (5) and Sunday (6), False otherwise\n",
    "    return date.weekday() >= 5\n",
    "\n",
    "def mean_absolute_scaled_error(y_true, y_pred):\n",
    "    seasonality = 20\n",
    "\n",
    "    seasonal_naive = test.copy()\n",
    "    seasonal_naive['yhat'] = test['y'].shift(20)\n",
    "    seasonal_naive['yhat'].fillna(test['y'][:20].mean(), inplace=True)\n",
    "\n",
    "    naive_errors = np.abs(seasonal_naive['y'] - seasonal_naive['yhat'])\n",
    "\n",
    "    # Mean absolute error of the naive forecast\n",
    "    naive_mae = np.mean(naive_errors)\n",
    "    naive_mae\n",
    "\n",
    "    # Ensure inputs are numpy arrays\n",
    "    y_true = np.array(y_true)\n",
    "    y_pred = np.array(y_pred)\n",
    "    \n",
    "    # Calculate the absolute error of the model's predictions\n",
    "    abs_error = np.mean(np.abs(y_true - y_pred))\n",
    "    \n",
    "    mase = abs_error / naive_mae\n",
    "\n",
    "    return mase\n",
    "\n",
    "def evaluate_model(test, test_forecast):\n",
    "    # Evaluate performance\n",
    "    mse = mean_squared_error(y_true=test['y'],  y_pred=test_forecast['yhat'])\n",
    "    rmse = np.sqrt(mean_squared_error(y_true=test['y'], y_pred=test_forecast['yhat']))\n",
    "    mae = mean_absolute_error(y_true=test['y'], y_pred=test_forecast['yhat'])\n",
    "    r2 = r2_score(y_true=test['y'], y_pred=test_forecast['yhat'])\n",
    "    return mse, rmse, mae, r2\n",
    "\n",
    "def df_to_X_y(df, window_size=6):\n",
    "    df_as_np = df.to_numpy()\n",
    "    X = []\n",
    "    y = []\n",
    "    for i in range(len(df_as_np) - window_size):\n",
    "        row = [r for r in df_as_np[i:i + window_size]]\n",
    "        X.append(row)\n",
    "        label = df_as_np[i + window_size][7]  # 'Entry' is the 8th column (index 7)\n",
    "        y.append(label)\n",
    "    return np.array(X), np.array(y)\n",
    "\n"
   ]
  },
  {
   "cell_type": "markdown",
   "metadata": {
    "nteract": {
     "transient": {
      "deleting": false
     }
    }
   },
   "source": [
    "##### Prophet Model"
   ]
  },
  {
   "cell_type": "code",
   "execution_count": 4,
   "metadata": {
    "gather": {
     "logged": 1730110402634
    },
    "jupyter": {
     "outputs_hidden": false,
     "source_hidden": false
    },
    "nteract": {
     "transient": {
      "deleting": false
     }
    }
   },
   "outputs": [
    {
     "data": {
      "text/html": [
       "<div>\n",
       "<style scoped>\n",
       "    .dataframe tbody tr th:only-of-type {\n",
       "        vertical-align: middle;\n",
       "    }\n",
       "\n",
       "    .dataframe tbody tr th {\n",
       "        vertical-align: top;\n",
       "    }\n",
       "\n",
       "    .dataframe thead th {\n",
       "        text-align: right;\n",
       "    }\n",
       "</style>\n",
       "<table border=\"1\" class=\"dataframe\">\n",
       "  <thead>\n",
       "    <tr style=\"text-align: right;\">\n",
       "      <th></th>\n",
       "      <th>Datetime</th>\n",
       "      <th>Entry</th>\n",
       "      <th>is_weekend</th>\n",
       "      <th>rain_amount</th>\n",
       "    </tr>\n",
       "  </thead>\n",
       "  <tbody>\n",
       "    <tr>\n",
       "      <th>0</th>\n",
       "      <td>2022-01-01 04:00:00</td>\n",
       "      <td>0</td>\n",
       "      <td>1</td>\n",
       "      <td>0.0</td>\n",
       "    </tr>\n",
       "    <tr>\n",
       "      <th>1</th>\n",
       "      <td>2022-01-01 05:00:00</td>\n",
       "      <td>0</td>\n",
       "      <td>1</td>\n",
       "      <td>0.0</td>\n",
       "    </tr>\n",
       "    <tr>\n",
       "      <th>2</th>\n",
       "      <td>2022-01-01 06:00:00</td>\n",
       "      <td>525</td>\n",
       "      <td>1</td>\n",
       "      <td>0.0</td>\n",
       "    </tr>\n",
       "    <tr>\n",
       "      <th>3</th>\n",
       "      <td>2022-01-01 07:00:00</td>\n",
       "      <td>610</td>\n",
       "      <td>1</td>\n",
       "      <td>0.0</td>\n",
       "    </tr>\n",
       "    <tr>\n",
       "      <th>4</th>\n",
       "      <td>2022-01-01 08:00:00</td>\n",
       "      <td>684</td>\n",
       "      <td>1</td>\n",
       "      <td>0.0</td>\n",
       "    </tr>\n",
       "    <tr>\n",
       "      <th>...</th>\n",
       "      <td>...</td>\n",
       "      <td>...</td>\n",
       "      <td>...</td>\n",
       "      <td>...</td>\n",
       "    </tr>\n",
       "    <tr>\n",
       "      <th>14595</th>\n",
       "      <td>2023-12-31 19:00:00</td>\n",
       "      <td>1681</td>\n",
       "      <td>1</td>\n",
       "      <td>0.0</td>\n",
       "    </tr>\n",
       "    <tr>\n",
       "      <th>14596</th>\n",
       "      <td>2023-12-31 20:00:00</td>\n",
       "      <td>297</td>\n",
       "      <td>1</td>\n",
       "      <td>0.0</td>\n",
       "    </tr>\n",
       "    <tr>\n",
       "      <th>14597</th>\n",
       "      <td>2023-12-31 21:00:00</td>\n",
       "      <td>0</td>\n",
       "      <td>1</td>\n",
       "      <td>0.0</td>\n",
       "    </tr>\n",
       "    <tr>\n",
       "      <th>14598</th>\n",
       "      <td>2023-12-31 22:00:00</td>\n",
       "      <td>0</td>\n",
       "      <td>1</td>\n",
       "      <td>0.0</td>\n",
       "    </tr>\n",
       "    <tr>\n",
       "      <th>14599</th>\n",
       "      <td>2023-12-31 23:00:00</td>\n",
       "      <td>0</td>\n",
       "      <td>1</td>\n",
       "      <td>0.0</td>\n",
       "    </tr>\n",
       "  </tbody>\n",
       "</table>\n",
       "<p>14600 rows × 4 columns</p>\n",
       "</div>"
      ],
      "text/plain": [
       "                 Datetime  Entry  is_weekend  rain_amount\n",
       "0     2022-01-01 04:00:00      0           1          0.0\n",
       "1     2022-01-01 05:00:00      0           1          0.0\n",
       "2     2022-01-01 06:00:00    525           1          0.0\n",
       "3     2022-01-01 07:00:00    610           1          0.0\n",
       "4     2022-01-01 08:00:00    684           1          0.0\n",
       "...                   ...    ...         ...          ...\n",
       "14595 2023-12-31 19:00:00   1681           1          0.0\n",
       "14596 2023-12-31 20:00:00    297           1          0.0\n",
       "14597 2023-12-31 21:00:00      0           1          0.0\n",
       "14598 2023-12-31 22:00:00      0           1          0.0\n",
       "14599 2023-12-31 23:00:00      0           1          0.0\n",
       "\n",
       "[14600 rows x 4 columns]"
      ]
     },
     "execution_count": 4,
     "metadata": {},
     "output_type": "execute_result"
    }
   ],
   "source": [
    "# Import dataset\n",
    "df = pd.read_csv('2223TaftProphet.csv', parse_dates=[0])\n",
    "df"
   ]
  },
  {
   "cell_type": "code",
   "execution_count": 5,
   "metadata": {
    "gather": {
     "logged": 1730110402955
    },
    "jupyter": {
     "outputs_hidden": false,
     "source_hidden": false
    },
    "nteract": {
     "transient": {
      "deleting": false
     }
    }
   },
   "outputs": [
    {
     "data": {
      "text/html": [
       "<div>\n",
       "<style scoped>\n",
       "    .dataframe tbody tr th:only-of-type {\n",
       "        vertical-align: middle;\n",
       "    }\n",
       "\n",
       "    .dataframe tbody tr th {\n",
       "        vertical-align: top;\n",
       "    }\n",
       "\n",
       "    .dataframe thead th {\n",
       "        text-align: right;\n",
       "    }\n",
       "</style>\n",
       "<table border=\"1\" class=\"dataframe\">\n",
       "  <thead>\n",
       "    <tr style=\"text-align: right;\">\n",
       "      <th></th>\n",
       "      <th>ds</th>\n",
       "      <th>y</th>\n",
       "      <th>is_weekend</th>\n",
       "      <th>rain_amount</th>\n",
       "      <th>hour</th>\n",
       "      <th>off_hour</th>\n",
       "      <th>weekday</th>\n",
       "      <th>weekend</th>\n",
       "      <th>year</th>\n",
       "      <th>month</th>\n",
       "      <th>day</th>\n",
       "      <th>day_of_week</th>\n",
       "    </tr>\n",
       "  </thead>\n",
       "  <tbody>\n",
       "    <tr>\n",
       "      <th>0</th>\n",
       "      <td>2022-01-01 04:00:00</td>\n",
       "      <td>0</td>\n",
       "      <td>1</td>\n",
       "      <td>0.0</td>\n",
       "      <td>4</td>\n",
       "      <td>0</td>\n",
       "      <td>False</td>\n",
       "      <td>True</td>\n",
       "      <td>2022</td>\n",
       "      <td>1</td>\n",
       "      <td>1</td>\n",
       "      <td>5</td>\n",
       "    </tr>\n",
       "    <tr>\n",
       "      <th>1</th>\n",
       "      <td>2022-01-01 05:00:00</td>\n",
       "      <td>0</td>\n",
       "      <td>1</td>\n",
       "      <td>0.0</td>\n",
       "      <td>5</td>\n",
       "      <td>0</td>\n",
       "      <td>False</td>\n",
       "      <td>True</td>\n",
       "      <td>2022</td>\n",
       "      <td>1</td>\n",
       "      <td>1</td>\n",
       "      <td>5</td>\n",
       "    </tr>\n",
       "    <tr>\n",
       "      <th>2</th>\n",
       "      <td>2022-01-01 06:00:00</td>\n",
       "      <td>525</td>\n",
       "      <td>1</td>\n",
       "      <td>0.0</td>\n",
       "      <td>6</td>\n",
       "      <td>0</td>\n",
       "      <td>False</td>\n",
       "      <td>True</td>\n",
       "      <td>2022</td>\n",
       "      <td>1</td>\n",
       "      <td>1</td>\n",
       "      <td>5</td>\n",
       "    </tr>\n",
       "    <tr>\n",
       "      <th>3</th>\n",
       "      <td>2022-01-01 07:00:00</td>\n",
       "      <td>610</td>\n",
       "      <td>1</td>\n",
       "      <td>0.0</td>\n",
       "      <td>7</td>\n",
       "      <td>0</td>\n",
       "      <td>False</td>\n",
       "      <td>True</td>\n",
       "      <td>2022</td>\n",
       "      <td>1</td>\n",
       "      <td>1</td>\n",
       "      <td>5</td>\n",
       "    </tr>\n",
       "    <tr>\n",
       "      <th>4</th>\n",
       "      <td>2022-01-01 08:00:00</td>\n",
       "      <td>684</td>\n",
       "      <td>1</td>\n",
       "      <td>0.0</td>\n",
       "      <td>8</td>\n",
       "      <td>0</td>\n",
       "      <td>False</td>\n",
       "      <td>True</td>\n",
       "      <td>2022</td>\n",
       "      <td>1</td>\n",
       "      <td>1</td>\n",
       "      <td>5</td>\n",
       "    </tr>\n",
       "    <tr>\n",
       "      <th>...</th>\n",
       "      <td>...</td>\n",
       "      <td>...</td>\n",
       "      <td>...</td>\n",
       "      <td>...</td>\n",
       "      <td>...</td>\n",
       "      <td>...</td>\n",
       "      <td>...</td>\n",
       "      <td>...</td>\n",
       "      <td>...</td>\n",
       "      <td>...</td>\n",
       "      <td>...</td>\n",
       "      <td>...</td>\n",
       "    </tr>\n",
       "    <tr>\n",
       "      <th>14595</th>\n",
       "      <td>2023-12-31 19:00:00</td>\n",
       "      <td>1681</td>\n",
       "      <td>1</td>\n",
       "      <td>0.0</td>\n",
       "      <td>19</td>\n",
       "      <td>0</td>\n",
       "      <td>False</td>\n",
       "      <td>True</td>\n",
       "      <td>2023</td>\n",
       "      <td>12</td>\n",
       "      <td>31</td>\n",
       "      <td>6</td>\n",
       "    </tr>\n",
       "    <tr>\n",
       "      <th>14596</th>\n",
       "      <td>2023-12-31 20:00:00</td>\n",
       "      <td>297</td>\n",
       "      <td>1</td>\n",
       "      <td>0.0</td>\n",
       "      <td>20</td>\n",
       "      <td>0</td>\n",
       "      <td>False</td>\n",
       "      <td>True</td>\n",
       "      <td>2023</td>\n",
       "      <td>12</td>\n",
       "      <td>31</td>\n",
       "      <td>6</td>\n",
       "    </tr>\n",
       "    <tr>\n",
       "      <th>14597</th>\n",
       "      <td>2023-12-31 21:00:00</td>\n",
       "      <td>0</td>\n",
       "      <td>1</td>\n",
       "      <td>0.0</td>\n",
       "      <td>21</td>\n",
       "      <td>0</td>\n",
       "      <td>False</td>\n",
       "      <td>True</td>\n",
       "      <td>2023</td>\n",
       "      <td>12</td>\n",
       "      <td>31</td>\n",
       "      <td>6</td>\n",
       "    </tr>\n",
       "    <tr>\n",
       "      <th>14598</th>\n",
       "      <td>2023-12-31 22:00:00</td>\n",
       "      <td>0</td>\n",
       "      <td>1</td>\n",
       "      <td>0.0</td>\n",
       "      <td>22</td>\n",
       "      <td>0</td>\n",
       "      <td>False</td>\n",
       "      <td>True</td>\n",
       "      <td>2023</td>\n",
       "      <td>12</td>\n",
       "      <td>31</td>\n",
       "      <td>6</td>\n",
       "    </tr>\n",
       "    <tr>\n",
       "      <th>14599</th>\n",
       "      <td>2023-12-31 23:00:00</td>\n",
       "      <td>0</td>\n",
       "      <td>1</td>\n",
       "      <td>0.0</td>\n",
       "      <td>23</td>\n",
       "      <td>1</td>\n",
       "      <td>False</td>\n",
       "      <td>True</td>\n",
       "      <td>2023</td>\n",
       "      <td>12</td>\n",
       "      <td>31</td>\n",
       "      <td>6</td>\n",
       "    </tr>\n",
       "  </tbody>\n",
       "</table>\n",
       "<p>14600 rows × 12 columns</p>\n",
       "</div>"
      ],
      "text/plain": [
       "                       ds     y  is_weekend  rain_amount  hour  off_hour  \\\n",
       "0     2022-01-01 04:00:00     0           1          0.0     4         0   \n",
       "1     2022-01-01 05:00:00     0           1          0.0     5         0   \n",
       "2     2022-01-01 06:00:00   525           1          0.0     6         0   \n",
       "3     2022-01-01 07:00:00   610           1          0.0     7         0   \n",
       "4     2022-01-01 08:00:00   684           1          0.0     8         0   \n",
       "...                   ...   ...         ...          ...   ...       ...   \n",
       "14595 2023-12-31 19:00:00  1681           1          0.0    19         0   \n",
       "14596 2023-12-31 20:00:00   297           1          0.0    20         0   \n",
       "14597 2023-12-31 21:00:00     0           1          0.0    21         0   \n",
       "14598 2023-12-31 22:00:00     0           1          0.0    22         0   \n",
       "14599 2023-12-31 23:00:00     0           1          0.0    23         1   \n",
       "\n",
       "       weekday  weekend  year  month  day  day_of_week  \n",
       "0        False     True  2022      1    1            5  \n",
       "1        False     True  2022      1    1            5  \n",
       "2        False     True  2022      1    1            5  \n",
       "3        False     True  2022      1    1            5  \n",
       "4        False     True  2022      1    1            5  \n",
       "...        ...      ...   ...    ...  ...          ...  \n",
       "14595    False     True  2023     12   31            6  \n",
       "14596    False     True  2023     12   31            6  \n",
       "14597    False     True  2023     12   31            6  \n",
       "14598    False     True  2023     12   31            6  \n",
       "14599    False     True  2023     12   31            6  \n",
       "\n",
       "[14600 rows x 12 columns]"
      ]
     },
     "execution_count": 5,
     "metadata": {},
     "output_type": "execute_result"
    }
   ],
   "source": [
    "# Rename header to Prophet's requirements\n",
    "df.reset_index()\n",
    "df = df.rename(columns={'Datetime':'ds', 'Entry':'y'})\n",
    "\n",
    "# Add additional regressors as columns in the dataframe\n",
    "df['hour'] = pd.to_datetime(df['ds']).dt.hour\n",
    "df['off_hour'] = df['hour'].apply(lambda x: 1 if (x >= 23) or (x <= 3) else 0)\n",
    "df['weekday'] = ~df['ds'].apply(is_weekend)\n",
    "df['weekend'] = df['ds'].apply(is_weekend)\n",
    "\n",
    "# Extract year, month, day, day of the week, and hour into separate columns\n",
    "df['year'] = df['ds'].dt.year\n",
    "df['month'] = df['ds'].dt.month\n",
    "df['day'] = df['ds'].dt.day\n",
    "df['day_of_week'] = df['ds'].dt.dayofweek  # Monday=0, Sunday=6\n",
    "df['hour'] = df['ds'].dt.hour\n",
    "\n",
    "#df['school_year'] = False\n",
    "#df['f2f_class'] = False\n",
    "\n",
    "# Define the school year periods\n",
    "#school_period_1 = (df['ds'] >= '2022-01-01 04:00:00') & (df['ds'] <= '2022-06-24 23:00:00')\n",
    "#school_period_2 = (df['ds'] >= '2022-08-22 04:00:00') & (df['ds'] <= '2023-07-07 23:00:00')\n",
    "#school_period_3 = (df['ds'] >= '2023-08-29 04:00:00') & (df['ds'] <= '2023-12-31 23:00:00')\n",
    "\n",
    "#f2f_period = (df['ds'] >= '2022-11-02 04:00:00') & (df['ds'] <= '2023-12-31 23:00:00')\n",
    "\n",
    "# Set 'school_active' to 1 (active) during these periods\n",
    "#df.loc[school_period_1 | school_period_2 | school_period_3, 'school_year'] = True\n",
    "#df.loc[f2f_period, 'f2f_class'] = True\n",
    "\n",
    "df"
   ]
  },
  {
   "cell_type": "code",
   "execution_count": 6,
   "metadata": {
    "gather": {
     "logged": 1730110403146
    },
    "jupyter": {
     "outputs_hidden": false,
     "source_hidden": false
    },
    "nteract": {
     "transient": {
      "deleting": false
     }
    }
   },
   "outputs": [
    {
     "data": {
      "text/plain": [
       "((11680, 12), (1460, 12), (1460, 12))"
      ]
     },
     "execution_count": 6,
     "metadata": {},
     "output_type": "execute_result"
    }
   ],
   "source": [
    "# Split the dataset to training and testing sets\n",
    "train_len = math.floor((df.shape[0]*80)/100)\n",
    "train = df[:train_len]\n",
    "test = df[train_len:]\n",
    "test_len = math.floor((test.shape[0]*50)/100)\n",
    "val = test[:test_len]\n",
    "test = test[test_len:]\n",
    "\n",
    "train.shape, val.shape, test.shape"
   ]
  },
  {
   "cell_type": "code",
   "execution_count": 7,
   "metadata": {
    "gather": {
     "logged": 1730110403313
    },
    "jupyter": {
     "outputs_hidden": false,
     "source_hidden": false
    },
    "nteract": {
     "transient": {
      "deleting": false
     }
    }
   },
   "outputs": [
    {
     "data": {
      "text/html": [
       "<div>\n",
       "<style scoped>\n",
       "    .dataframe tbody tr th:only-of-type {\n",
       "        vertical-align: middle;\n",
       "    }\n",
       "\n",
       "    .dataframe tbody tr th {\n",
       "        vertical-align: top;\n",
       "    }\n",
       "\n",
       "    .dataframe thead th {\n",
       "        text-align: right;\n",
       "    }\n",
       "</style>\n",
       "<table border=\"1\" class=\"dataframe\">\n",
       "  <thead>\n",
       "    <tr style=\"text-align: right;\">\n",
       "      <th></th>\n",
       "      <th>ds</th>\n",
       "      <th>y</th>\n",
       "      <th>is_weekend</th>\n",
       "      <th>rain_amount</th>\n",
       "      <th>hour</th>\n",
       "      <th>off_hour</th>\n",
       "      <th>weekday</th>\n",
       "      <th>weekend</th>\n",
       "      <th>year</th>\n",
       "      <th>month</th>\n",
       "      <th>day</th>\n",
       "      <th>day_of_week</th>\n",
       "    </tr>\n",
       "  </thead>\n",
       "  <tbody>\n",
       "    <tr>\n",
       "      <th>13140</th>\n",
       "      <td>2023-10-20 04:00:00</td>\n",
       "      <td>0</td>\n",
       "      <td>0</td>\n",
       "      <td>26.5</td>\n",
       "      <td>4</td>\n",
       "      <td>0</td>\n",
       "      <td>True</td>\n",
       "      <td>False</td>\n",
       "      <td>2023</td>\n",
       "      <td>10</td>\n",
       "      <td>20</td>\n",
       "      <td>4</td>\n",
       "    </tr>\n",
       "    <tr>\n",
       "      <th>13141</th>\n",
       "      <td>2023-10-20 05:00:00</td>\n",
       "      <td>2894</td>\n",
       "      <td>0</td>\n",
       "      <td>26.5</td>\n",
       "      <td>5</td>\n",
       "      <td>0</td>\n",
       "      <td>True</td>\n",
       "      <td>False</td>\n",
       "      <td>2023</td>\n",
       "      <td>10</td>\n",
       "      <td>20</td>\n",
       "      <td>4</td>\n",
       "    </tr>\n",
       "    <tr>\n",
       "      <th>13142</th>\n",
       "      <td>2023-10-20 06:00:00</td>\n",
       "      <td>4339</td>\n",
       "      <td>0</td>\n",
       "      <td>26.5</td>\n",
       "      <td>6</td>\n",
       "      <td>0</td>\n",
       "      <td>True</td>\n",
       "      <td>False</td>\n",
       "      <td>2023</td>\n",
       "      <td>10</td>\n",
       "      <td>20</td>\n",
       "      <td>4</td>\n",
       "    </tr>\n",
       "    <tr>\n",
       "      <th>13143</th>\n",
       "      <td>2023-10-20 07:00:00</td>\n",
       "      <td>5548</td>\n",
       "      <td>0</td>\n",
       "      <td>26.5</td>\n",
       "      <td>7</td>\n",
       "      <td>0</td>\n",
       "      <td>True</td>\n",
       "      <td>False</td>\n",
       "      <td>2023</td>\n",
       "      <td>10</td>\n",
       "      <td>20</td>\n",
       "      <td>4</td>\n",
       "    </tr>\n",
       "    <tr>\n",
       "      <th>13144</th>\n",
       "      <td>2023-10-20 08:00:00</td>\n",
       "      <td>4502</td>\n",
       "      <td>0</td>\n",
       "      <td>26.5</td>\n",
       "      <td>8</td>\n",
       "      <td>0</td>\n",
       "      <td>True</td>\n",
       "      <td>False</td>\n",
       "      <td>2023</td>\n",
       "      <td>10</td>\n",
       "      <td>20</td>\n",
       "      <td>4</td>\n",
       "    </tr>\n",
       "    <tr>\n",
       "      <th>...</th>\n",
       "      <td>...</td>\n",
       "      <td>...</td>\n",
       "      <td>...</td>\n",
       "      <td>...</td>\n",
       "      <td>...</td>\n",
       "      <td>...</td>\n",
       "      <td>...</td>\n",
       "      <td>...</td>\n",
       "      <td>...</td>\n",
       "      <td>...</td>\n",
       "      <td>...</td>\n",
       "      <td>...</td>\n",
       "    </tr>\n",
       "    <tr>\n",
       "      <th>14595</th>\n",
       "      <td>2023-12-31 19:00:00</td>\n",
       "      <td>1681</td>\n",
       "      <td>1</td>\n",
       "      <td>0.0</td>\n",
       "      <td>19</td>\n",
       "      <td>0</td>\n",
       "      <td>False</td>\n",
       "      <td>True</td>\n",
       "      <td>2023</td>\n",
       "      <td>12</td>\n",
       "      <td>31</td>\n",
       "      <td>6</td>\n",
       "    </tr>\n",
       "    <tr>\n",
       "      <th>14596</th>\n",
       "      <td>2023-12-31 20:00:00</td>\n",
       "      <td>297</td>\n",
       "      <td>1</td>\n",
       "      <td>0.0</td>\n",
       "      <td>20</td>\n",
       "      <td>0</td>\n",
       "      <td>False</td>\n",
       "      <td>True</td>\n",
       "      <td>2023</td>\n",
       "      <td>12</td>\n",
       "      <td>31</td>\n",
       "      <td>6</td>\n",
       "    </tr>\n",
       "    <tr>\n",
       "      <th>14597</th>\n",
       "      <td>2023-12-31 21:00:00</td>\n",
       "      <td>0</td>\n",
       "      <td>1</td>\n",
       "      <td>0.0</td>\n",
       "      <td>21</td>\n",
       "      <td>0</td>\n",
       "      <td>False</td>\n",
       "      <td>True</td>\n",
       "      <td>2023</td>\n",
       "      <td>12</td>\n",
       "      <td>31</td>\n",
       "      <td>6</td>\n",
       "    </tr>\n",
       "    <tr>\n",
       "      <th>14598</th>\n",
       "      <td>2023-12-31 22:00:00</td>\n",
       "      <td>0</td>\n",
       "      <td>1</td>\n",
       "      <td>0.0</td>\n",
       "      <td>22</td>\n",
       "      <td>0</td>\n",
       "      <td>False</td>\n",
       "      <td>True</td>\n",
       "      <td>2023</td>\n",
       "      <td>12</td>\n",
       "      <td>31</td>\n",
       "      <td>6</td>\n",
       "    </tr>\n",
       "    <tr>\n",
       "      <th>14599</th>\n",
       "      <td>2023-12-31 23:00:00</td>\n",
       "      <td>0</td>\n",
       "      <td>1</td>\n",
       "      <td>0.0</td>\n",
       "      <td>23</td>\n",
       "      <td>1</td>\n",
       "      <td>False</td>\n",
       "      <td>True</td>\n",
       "      <td>2023</td>\n",
       "      <td>12</td>\n",
       "      <td>31</td>\n",
       "      <td>6</td>\n",
       "    </tr>\n",
       "  </tbody>\n",
       "</table>\n",
       "<p>1460 rows × 12 columns</p>\n",
       "</div>"
      ],
      "text/plain": [
       "                       ds     y  is_weekend  rain_amount  hour  off_hour  \\\n",
       "13140 2023-10-20 04:00:00     0           0         26.5     4         0   \n",
       "13141 2023-10-20 05:00:00  2894           0         26.5     5         0   \n",
       "13142 2023-10-20 06:00:00  4339           0         26.5     6         0   \n",
       "13143 2023-10-20 07:00:00  5548           0         26.5     7         0   \n",
       "13144 2023-10-20 08:00:00  4502           0         26.5     8         0   \n",
       "...                   ...   ...         ...          ...   ...       ...   \n",
       "14595 2023-12-31 19:00:00  1681           1          0.0    19         0   \n",
       "14596 2023-12-31 20:00:00   297           1          0.0    20         0   \n",
       "14597 2023-12-31 21:00:00     0           1          0.0    21         0   \n",
       "14598 2023-12-31 22:00:00     0           1          0.0    22         0   \n",
       "14599 2023-12-31 23:00:00     0           1          0.0    23         1   \n",
       "\n",
       "       weekday  weekend  year  month  day  day_of_week  \n",
       "13140     True    False  2023     10   20            4  \n",
       "13141     True    False  2023     10   20            4  \n",
       "13142     True    False  2023     10   20            4  \n",
       "13143     True    False  2023     10   20            4  \n",
       "13144     True    False  2023     10   20            4  \n",
       "...        ...      ...   ...    ...  ...          ...  \n",
       "14595    False     True  2023     12   31            6  \n",
       "14596    False     True  2023     12   31            6  \n",
       "14597    False     True  2023     12   31            6  \n",
       "14598    False     True  2023     12   31            6  \n",
       "14599    False     True  2023     12   31            6  \n",
       "\n",
       "[1460 rows x 12 columns]"
      ]
     },
     "execution_count": 7,
     "metadata": {},
     "output_type": "execute_result"
    }
   ],
   "source": [
    "test"
   ]
  },
  {
   "cell_type": "code",
   "execution_count": 8,
   "metadata": {
    "gather": {
     "logged": 1730110403674
    },
    "jupyter": {
     "outputs_hidden": false,
     "source_hidden": false
    },
    "nteract": {
     "transient": {
      "deleting": false
     }
    }
   },
   "outputs": [
    {
     "data": {
      "text/html": [
       "<div>\n",
       "<style scoped>\n",
       "    .dataframe tbody tr th:only-of-type {\n",
       "        vertical-align: middle;\n",
       "    }\n",
       "\n",
       "    .dataframe tbody tr th {\n",
       "        vertical-align: top;\n",
       "    }\n",
       "\n",
       "    .dataframe thead th {\n",
       "        text-align: right;\n",
       "    }\n",
       "</style>\n",
       "<table border=\"1\" class=\"dataframe\">\n",
       "  <thead>\n",
       "    <tr style=\"text-align: right;\">\n",
       "      <th></th>\n",
       "      <th>ds</th>\n",
       "      <th>holiday</th>\n",
       "    </tr>\n",
       "  </thead>\n",
       "  <tbody>\n",
       "    <tr>\n",
       "      <th>0</th>\n",
       "      <td>2022-01-01</td>\n",
       "      <td>New Year's Day</td>\n",
       "    </tr>\n",
       "    <tr>\n",
       "      <th>1</th>\n",
       "      <td>2022-02-01</td>\n",
       "      <td>Chinese New Year</td>\n",
       "    </tr>\n",
       "    <tr>\n",
       "      <th>2</th>\n",
       "      <td>2022-02-25</td>\n",
       "      <td>EDSA Revolution Anniversary</td>\n",
       "    </tr>\n",
       "    <tr>\n",
       "      <th>3</th>\n",
       "      <td>2022-04-09</td>\n",
       "      <td>Day of Valor</td>\n",
       "    </tr>\n",
       "    <tr>\n",
       "      <th>4</th>\n",
       "      <td>2022-04-14</td>\n",
       "      <td>Maundy Thursday</td>\n",
       "    </tr>\n",
       "    <tr>\n",
       "      <th>5</th>\n",
       "      <td>2022-04-15</td>\n",
       "      <td>Good Friday</td>\n",
       "    </tr>\n",
       "    <tr>\n",
       "      <th>6</th>\n",
       "      <td>2022-04-16</td>\n",
       "      <td>Black Saturday</td>\n",
       "    </tr>\n",
       "    <tr>\n",
       "      <th>7</th>\n",
       "      <td>2022-05-01</td>\n",
       "      <td>Labour Day</td>\n",
       "    </tr>\n",
       "    <tr>\n",
       "      <th>8</th>\n",
       "      <td>2022-05-02</td>\n",
       "      <td>Eid'l Fitr (estimated)</td>\n",
       "    </tr>\n",
       "    <tr>\n",
       "      <th>9</th>\n",
       "      <td>2022-06-12</td>\n",
       "      <td>Independence Day</td>\n",
       "    </tr>\n",
       "    <tr>\n",
       "      <th>10</th>\n",
       "      <td>2022-07-09</td>\n",
       "      <td>Eid'l Adha (estimated)</td>\n",
       "    </tr>\n",
       "    <tr>\n",
       "      <th>11</th>\n",
       "      <td>2022-08-21</td>\n",
       "      <td>Ninoy Aquino Day</td>\n",
       "    </tr>\n",
       "    <tr>\n",
       "      <th>12</th>\n",
       "      <td>2022-08-29</td>\n",
       "      <td>National Heroes Day</td>\n",
       "    </tr>\n",
       "    <tr>\n",
       "      <th>13</th>\n",
       "      <td>2022-11-01</td>\n",
       "      <td>All Saints' Day</td>\n",
       "    </tr>\n",
       "    <tr>\n",
       "      <th>14</th>\n",
       "      <td>2022-11-30</td>\n",
       "      <td>Bonifacio Day</td>\n",
       "    </tr>\n",
       "    <tr>\n",
       "      <th>15</th>\n",
       "      <td>2022-12-08</td>\n",
       "      <td>Immaculate Conception Day</td>\n",
       "    </tr>\n",
       "    <tr>\n",
       "      <th>16</th>\n",
       "      <td>2022-12-25</td>\n",
       "      <td>Christmas Day</td>\n",
       "    </tr>\n",
       "    <tr>\n",
       "      <th>17</th>\n",
       "      <td>2022-12-30</td>\n",
       "      <td>Rizal Day</td>\n",
       "    </tr>\n",
       "    <tr>\n",
       "      <th>18</th>\n",
       "      <td>2022-12-31</td>\n",
       "      <td>New Year's Eve</td>\n",
       "    </tr>\n",
       "    <tr>\n",
       "      <th>19</th>\n",
       "      <td>2023-01-01</td>\n",
       "      <td>New Year's Day</td>\n",
       "    </tr>\n",
       "    <tr>\n",
       "      <th>20</th>\n",
       "      <td>2023-01-22</td>\n",
       "      <td>Chinese New Year</td>\n",
       "    </tr>\n",
       "    <tr>\n",
       "      <th>21</th>\n",
       "      <td>2023-02-25</td>\n",
       "      <td>EDSA Revolution Anniversary</td>\n",
       "    </tr>\n",
       "    <tr>\n",
       "      <th>22</th>\n",
       "      <td>2023-04-06</td>\n",
       "      <td>Maundy Thursday</td>\n",
       "    </tr>\n",
       "    <tr>\n",
       "      <th>23</th>\n",
       "      <td>2023-04-07</td>\n",
       "      <td>Good Friday</td>\n",
       "    </tr>\n",
       "    <tr>\n",
       "      <th>24</th>\n",
       "      <td>2023-04-08</td>\n",
       "      <td>Black Saturday</td>\n",
       "    </tr>\n",
       "    <tr>\n",
       "      <th>25</th>\n",
       "      <td>2023-04-09</td>\n",
       "      <td>Day of Valor</td>\n",
       "    </tr>\n",
       "    <tr>\n",
       "      <th>26</th>\n",
       "      <td>2023-04-21</td>\n",
       "      <td>Eid'l Fitr (estimated)</td>\n",
       "    </tr>\n",
       "    <tr>\n",
       "      <th>27</th>\n",
       "      <td>2023-05-01</td>\n",
       "      <td>Labour Day</td>\n",
       "    </tr>\n",
       "    <tr>\n",
       "      <th>28</th>\n",
       "      <td>2023-06-12</td>\n",
       "      <td>Independence Day</td>\n",
       "    </tr>\n",
       "    <tr>\n",
       "      <th>29</th>\n",
       "      <td>2023-06-28</td>\n",
       "      <td>Eid'l Adha (estimated)</td>\n",
       "    </tr>\n",
       "    <tr>\n",
       "      <th>30</th>\n",
       "      <td>2023-08-21</td>\n",
       "      <td>Ninoy Aquino Day</td>\n",
       "    </tr>\n",
       "    <tr>\n",
       "      <th>31</th>\n",
       "      <td>2023-08-28</td>\n",
       "      <td>National Heroes Day</td>\n",
       "    </tr>\n",
       "    <tr>\n",
       "      <th>32</th>\n",
       "      <td>2023-11-01</td>\n",
       "      <td>All Saints' Day</td>\n",
       "    </tr>\n",
       "    <tr>\n",
       "      <th>33</th>\n",
       "      <td>2023-11-27</td>\n",
       "      <td>Bonifacio Day</td>\n",
       "    </tr>\n",
       "    <tr>\n",
       "      <th>34</th>\n",
       "      <td>2023-12-08</td>\n",
       "      <td>Immaculate Conception Day</td>\n",
       "    </tr>\n",
       "    <tr>\n",
       "      <th>35</th>\n",
       "      <td>2023-12-25</td>\n",
       "      <td>Christmas Day</td>\n",
       "    </tr>\n",
       "    <tr>\n",
       "      <th>36</th>\n",
       "      <td>2023-12-30</td>\n",
       "      <td>Rizal Day</td>\n",
       "    </tr>\n",
       "    <tr>\n",
       "      <th>37</th>\n",
       "      <td>2023-12-31</td>\n",
       "      <td>New Year's Eve</td>\n",
       "    </tr>\n",
       "  </tbody>\n",
       "</table>\n",
       "</div>"
      ],
      "text/plain": [
       "           ds                      holiday\n",
       "0  2022-01-01               New Year's Day\n",
       "1  2022-02-01             Chinese New Year\n",
       "2  2022-02-25  EDSA Revolution Anniversary\n",
       "3  2022-04-09                 Day of Valor\n",
       "4  2022-04-14              Maundy Thursday\n",
       "5  2022-04-15                  Good Friday\n",
       "6  2022-04-16               Black Saturday\n",
       "7  2022-05-01                   Labour Day\n",
       "8  2022-05-02       Eid'l Fitr (estimated)\n",
       "9  2022-06-12             Independence Day\n",
       "10 2022-07-09       Eid'l Adha (estimated)\n",
       "11 2022-08-21             Ninoy Aquino Day\n",
       "12 2022-08-29          National Heroes Day\n",
       "13 2022-11-01              All Saints' Day\n",
       "14 2022-11-30                Bonifacio Day\n",
       "15 2022-12-08    Immaculate Conception Day\n",
       "16 2022-12-25                Christmas Day\n",
       "17 2022-12-30                    Rizal Day\n",
       "18 2022-12-31               New Year's Eve\n",
       "19 2023-01-01               New Year's Day\n",
       "20 2023-01-22             Chinese New Year\n",
       "21 2023-02-25  EDSA Revolution Anniversary\n",
       "22 2023-04-06              Maundy Thursday\n",
       "23 2023-04-07                  Good Friday\n",
       "24 2023-04-08               Black Saturday\n",
       "25 2023-04-09                 Day of Valor\n",
       "26 2023-04-21       Eid'l Fitr (estimated)\n",
       "27 2023-05-01                   Labour Day\n",
       "28 2023-06-12             Independence Day\n",
       "29 2023-06-28       Eid'l Adha (estimated)\n",
       "30 2023-08-21             Ninoy Aquino Day\n",
       "31 2023-08-28          National Heroes Day\n",
       "32 2023-11-01              All Saints' Day\n",
       "33 2023-11-27                Bonifacio Day\n",
       "34 2023-12-08    Immaculate Conception Day\n",
       "35 2023-12-25                Christmas Day\n",
       "36 2023-12-30                    Rizal Day\n",
       "37 2023-12-31               New Year's Eve"
      ]
     },
     "execution_count": 8,
     "metadata": {},
     "output_type": "execute_result"
    }
   ],
   "source": [
    "# Create holidays dataframe\n",
    "holiday = pd.DataFrame([])\n",
    "for date, name in sorted(holidays.Philippines(years=[2022, 2023]).items()):\n",
    "    holiday = pd.concat([holiday, pd.DataFrame({'ds': date, 'holiday': name}, index=[0])], ignore_index=True)\n",
    "holiday['ds'] = pd.to_datetime(holiday['ds'], format='%Y-%m-%d', errors='ignore')\n",
    "holiday.loc[holiday['ds'] == '2023-11-30', 'ds'] = '2023-11-27'\n",
    "\n",
    "holiday.head(40)\n"
   ]
  },
  {
   "cell_type": "code",
   "execution_count": 9,
   "metadata": {
    "gather": {
     "logged": 1730110516912
    },
    "jupyter": {
     "outputs_hidden": false,
     "source_hidden": false
    },
    "nteract": {
     "transient": {
      "deleting": false
     }
    }
   },
   "outputs": [
    {
     "name": "stderr",
     "output_type": "stream",
     "text": [
      "04:06:21 - cmdstanpy - INFO - Chain [1] start processing\n",
      "04:06:25 - cmdstanpy - INFO - Chain [1] done processing\n"
     ]
    },
    {
     "data": {
      "text/plain": [
       "<prophet.forecaster.Prophet at 0x24f5818ea10>"
      ]
     },
     "execution_count": 9,
     "metadata": {},
     "output_type": "execute_result"
    }
   ],
   "source": [
    "# Initialize the Prophet model\n",
    "m = Prophet(\n",
    "    yearly_seasonality=True,\n",
    "    daily_seasonality=False,\n",
    "    weekly_seasonality=True,\n",
    "    holidays=holiday,\n",
    "    seasonality_mode='multiplicative',\n",
    "    changepoint_prior_scale=0.001,\n",
    "    seasonality_prior_scale=0.1\n",
    ")\n",
    "\n",
    "# Add the regressors\n",
    "m.add_seasonality(name='daily_is_weekend', period=1, fourier_order=4, condition_name='weekend')\n",
    "m.add_seasonality(name='daily_is_weekday', period=1, fourier_order=4, condition_name='weekday')\n",
    "m.add_regressor('off_hour')\n",
    "m.add_regressor('rain_amount')\n",
    "#m.add_regressor('off_hour')\n",
    "#m.add_regressor('school_year')\n",
    "\n",
    "# Fit the model on the training data\n",
    "m.fit(train)"
   ]
  },
  {
   "cell_type": "code",
   "execution_count": 10,
   "metadata": {
    "gather": {
     "logged": 1730110517300
    },
    "jupyter": {
     "outputs_hidden": false,
     "source_hidden": false
    },
    "nteract": {
     "transient": {
      "deleting": false
     }
    }
   },
   "outputs": [
    {
     "data": {
      "text/html": [
       "<div>\n",
       "<style scoped>\n",
       "    .dataframe tbody tr th:only-of-type {\n",
       "        vertical-align: middle;\n",
       "    }\n",
       "\n",
       "    .dataframe tbody tr th {\n",
       "        vertical-align: top;\n",
       "    }\n",
       "\n",
       "    .dataframe thead th {\n",
       "        text-align: right;\n",
       "    }\n",
       "</style>\n",
       "<table border=\"1\" class=\"dataframe\">\n",
       "  <thead>\n",
       "    <tr style=\"text-align: right;\">\n",
       "      <th></th>\n",
       "      <th>ds</th>\n",
       "      <th>trend</th>\n",
       "      <th>yhat_lower</th>\n",
       "      <th>yhat_upper</th>\n",
       "      <th>trend_lower</th>\n",
       "      <th>trend_upper</th>\n",
       "      <th>All Saints' Day</th>\n",
       "      <th>All Saints' Day_lower</th>\n",
       "      <th>All Saints' Day_upper</th>\n",
       "      <th>Black Saturday</th>\n",
       "      <th>...</th>\n",
       "      <th>weekly</th>\n",
       "      <th>weekly_lower</th>\n",
       "      <th>weekly_upper</th>\n",
       "      <th>yearly</th>\n",
       "      <th>yearly_lower</th>\n",
       "      <th>yearly_upper</th>\n",
       "      <th>additive_terms</th>\n",
       "      <th>additive_terms_lower</th>\n",
       "      <th>additive_terms_upper</th>\n",
       "      <th>yhat</th>\n",
       "    </tr>\n",
       "  </thead>\n",
       "  <tbody>\n",
       "    <tr>\n",
       "      <th>0</th>\n",
       "      <td>2023-10-20 04:00:00</td>\n",
       "      <td>1461.835412</td>\n",
       "      <td>0.000000</td>\n",
       "      <td>294.403786</td>\n",
       "      <td>1461.835412</td>\n",
       "      <td>1461.835412</td>\n",
       "      <td>0.0</td>\n",
       "      <td>0.0</td>\n",
       "      <td>0.0</td>\n",
       "      <td>0.0</td>\n",
       "      <td>...</td>\n",
       "      <td>-0.030464</td>\n",
       "      <td>-0.030464</td>\n",
       "      <td>-0.030464</td>\n",
       "      <td>-0.126048</td>\n",
       "      <td>-0.126048</td>\n",
       "      <td>-0.126048</td>\n",
       "      <td>0.0</td>\n",
       "      <td>0.0</td>\n",
       "      <td>0.0</td>\n",
       "      <td>0.0</td>\n",
       "    </tr>\n",
       "    <tr>\n",
       "      <th>1</th>\n",
       "      <td>2023-10-20 05:00:00</td>\n",
       "      <td>1461.852294</td>\n",
       "      <td>1320.750818</td>\n",
       "      <td>2675.816568</td>\n",
       "      <td>1461.852294</td>\n",
       "      <td>1461.852294</td>\n",
       "      <td>0.0</td>\n",
       "      <td>0.0</td>\n",
       "      <td>0.0</td>\n",
       "      <td>0.0</td>\n",
       "      <td>...</td>\n",
       "      <td>-0.024799</td>\n",
       "      <td>-0.024799</td>\n",
       "      <td>-0.024799</td>\n",
       "      <td>-0.126362</td>\n",
       "      <td>-0.126362</td>\n",
       "      <td>-0.126362</td>\n",
       "      <td>0.0</td>\n",
       "      <td>0.0</td>\n",
       "      <td>0.0</td>\n",
       "      <td>2043.0</td>\n",
       "    </tr>\n",
       "    <tr>\n",
       "      <th>2</th>\n",
       "      <td>2023-10-20 06:00:00</td>\n",
       "      <td>1461.869177</td>\n",
       "      <td>2979.796404</td>\n",
       "      <td>4267.167698</td>\n",
       "      <td>1461.869177</td>\n",
       "      <td>1461.869177</td>\n",
       "      <td>0.0</td>\n",
       "      <td>0.0</td>\n",
       "      <td>0.0</td>\n",
       "      <td>0.0</td>\n",
       "      <td>...</td>\n",
       "      <td>-0.018761</td>\n",
       "      <td>-0.018761</td>\n",
       "      <td>-0.018761</td>\n",
       "      <td>-0.126678</td>\n",
       "      <td>-0.126678</td>\n",
       "      <td>-0.126678</td>\n",
       "      <td>0.0</td>\n",
       "      <td>0.0</td>\n",
       "      <td>0.0</td>\n",
       "      <td>3624.0</td>\n",
       "    </tr>\n",
       "    <tr>\n",
       "      <th>3</th>\n",
       "      <td>2023-10-20 07:00:00</td>\n",
       "      <td>1461.886059</td>\n",
       "      <td>3434.188477</td>\n",
       "      <td>4695.703947</td>\n",
       "      <td>1461.886059</td>\n",
       "      <td>1461.886059</td>\n",
       "      <td>0.0</td>\n",
       "      <td>0.0</td>\n",
       "      <td>0.0</td>\n",
       "      <td>0.0</td>\n",
       "      <td>...</td>\n",
       "      <td>-0.012417</td>\n",
       "      <td>-0.012417</td>\n",
       "      <td>-0.012417</td>\n",
       "      <td>-0.126997</td>\n",
       "      <td>-0.126997</td>\n",
       "      <td>-0.126997</td>\n",
       "      <td>0.0</td>\n",
       "      <td>0.0</td>\n",
       "      <td>0.0</td>\n",
       "      <td>4063.0</td>\n",
       "    </tr>\n",
       "    <tr>\n",
       "      <th>4</th>\n",
       "      <td>2023-10-20 08:00:00</td>\n",
       "      <td>1461.902942</td>\n",
       "      <td>3041.668962</td>\n",
       "      <td>4275.650777</td>\n",
       "      <td>1461.902942</td>\n",
       "      <td>1461.902942</td>\n",
       "      <td>0.0</td>\n",
       "      <td>0.0</td>\n",
       "      <td>0.0</td>\n",
       "      <td>0.0</td>\n",
       "      <td>...</td>\n",
       "      <td>-0.005840</td>\n",
       "      <td>-0.005840</td>\n",
       "      <td>-0.005840</td>\n",
       "      <td>-0.127316</td>\n",
       "      <td>-0.127316</td>\n",
       "      <td>-0.127316</td>\n",
       "      <td>0.0</td>\n",
       "      <td>0.0</td>\n",
       "      <td>0.0</td>\n",
       "      <td>3637.0</td>\n",
       "    </tr>\n",
       "  </tbody>\n",
       "</table>\n",
       "<p>5 rows × 94 columns</p>\n",
       "</div>"
      ],
      "text/plain": [
       "                   ds        trend   yhat_lower   yhat_upper  trend_lower  \\\n",
       "0 2023-10-20 04:00:00  1461.835412     0.000000   294.403786  1461.835412   \n",
       "1 2023-10-20 05:00:00  1461.852294  1320.750818  2675.816568  1461.852294   \n",
       "2 2023-10-20 06:00:00  1461.869177  2979.796404  4267.167698  1461.869177   \n",
       "3 2023-10-20 07:00:00  1461.886059  3434.188477  4695.703947  1461.886059   \n",
       "4 2023-10-20 08:00:00  1461.902942  3041.668962  4275.650777  1461.902942   \n",
       "\n",
       "   trend_upper  All Saints' Day  All Saints' Day_lower  All Saints' Day_upper  \\\n",
       "0  1461.835412              0.0                    0.0                    0.0   \n",
       "1  1461.852294              0.0                    0.0                    0.0   \n",
       "2  1461.869177              0.0                    0.0                    0.0   \n",
       "3  1461.886059              0.0                    0.0                    0.0   \n",
       "4  1461.902942              0.0                    0.0                    0.0   \n",
       "\n",
       "   Black Saturday  ...    weekly  weekly_lower  weekly_upper    yearly  \\\n",
       "0             0.0  ... -0.030464     -0.030464     -0.030464 -0.126048   \n",
       "1             0.0  ... -0.024799     -0.024799     -0.024799 -0.126362   \n",
       "2             0.0  ... -0.018761     -0.018761     -0.018761 -0.126678   \n",
       "3             0.0  ... -0.012417     -0.012417     -0.012417 -0.126997   \n",
       "4             0.0  ... -0.005840     -0.005840     -0.005840 -0.127316   \n",
       "\n",
       "   yearly_lower  yearly_upper  additive_terms  additive_terms_lower  \\\n",
       "0     -0.126048     -0.126048             0.0                   0.0   \n",
       "1     -0.126362     -0.126362             0.0                   0.0   \n",
       "2     -0.126678     -0.126678             0.0                   0.0   \n",
       "3     -0.126997     -0.126997             0.0                   0.0   \n",
       "4     -0.127316     -0.127316             0.0                   0.0   \n",
       "\n",
       "   additive_terms_upper    yhat  \n",
       "0                   0.0     0.0  \n",
       "1                   0.0  2043.0  \n",
       "2                   0.0  3624.0  \n",
       "3                   0.0  4063.0  \n",
       "4                   0.0  3637.0  \n",
       "\n",
       "[5 rows x 94 columns]"
      ]
     },
     "execution_count": 10,
     "metadata": {},
     "output_type": "execute_result"
    }
   ],
   "source": [
    "# Make predictions for Test set\n",
    "test_forecast = m.predict(test)\n",
    "\n",
    "# Remove negative forecasts\n",
    "test_forecast['yhat'] = test_forecast['yhat'].apply(lambda x: max(x, 0))\n",
    "test_forecast['yhat_lower'] = test_forecast['yhat_lower'].apply(lambda x: max(x, 0))\n",
    "test_forecast['yhat_upper'] = test_forecast['yhat_upper'].apply(lambda x: max(x, 0))\n",
    "\n",
    "# Round forecast values\n",
    "test_forecast['yhat'] = test_forecast['yhat'].round()\n",
    "\n",
    "test_forecast.head(5)"
   ]
  },
  {
   "cell_type": "code",
   "execution_count": 11,
   "metadata": {
    "gather": {
     "logged": 1730110523488
    },
    "jupyter": {
     "outputs_hidden": false,
     "source_hidden": false
    },
    "nteract": {
     "transient": {
      "deleting": false
     }
    }
   },
   "outputs": [
    {
     "data": {
      "text/html": [
       "<div>\n",
       "<style scoped>\n",
       "    .dataframe tbody tr th:only-of-type {\n",
       "        vertical-align: middle;\n",
       "    }\n",
       "\n",
       "    .dataframe tbody tr th {\n",
       "        vertical-align: top;\n",
       "    }\n",
       "\n",
       "    .dataframe thead th {\n",
       "        text-align: right;\n",
       "    }\n",
       "</style>\n",
       "<table border=\"1\" class=\"dataframe\">\n",
       "  <thead>\n",
       "    <tr style=\"text-align: right;\">\n",
       "      <th></th>\n",
       "      <th>ds</th>\n",
       "      <th>yhat</th>\n",
       "      <th>yhat_lower</th>\n",
       "      <th>yhat_upper</th>\n",
       "    </tr>\n",
       "  </thead>\n",
       "  <tbody>\n",
       "    <tr>\n",
       "      <th>0</th>\n",
       "      <td>2022-01-01 04:00:00</td>\n",
       "      <td>0.0</td>\n",
       "      <td>0.000000</td>\n",
       "      <td>432.783935</td>\n",
       "    </tr>\n",
       "    <tr>\n",
       "      <th>1</th>\n",
       "      <td>2022-01-01 05:00:00</td>\n",
       "      <td>1180.0</td>\n",
       "      <td>547.077086</td>\n",
       "      <td>1794.878333</td>\n",
       "    </tr>\n",
       "    <tr>\n",
       "      <th>2</th>\n",
       "      <td>2022-01-01 06:00:00</td>\n",
       "      <td>2099.0</td>\n",
       "      <td>1501.764087</td>\n",
       "      <td>2722.087867</td>\n",
       "    </tr>\n",
       "    <tr>\n",
       "      <th>3</th>\n",
       "      <td>2022-01-01 07:00:00</td>\n",
       "      <td>2346.0</td>\n",
       "      <td>1721.253318</td>\n",
       "      <td>2980.014147</td>\n",
       "    </tr>\n",
       "    <tr>\n",
       "      <th>4</th>\n",
       "      <td>2022-01-01 08:00:00</td>\n",
       "      <td>2084.0</td>\n",
       "      <td>1441.523489</td>\n",
       "      <td>2695.828008</td>\n",
       "    </tr>\n",
       "  </tbody>\n",
       "</table>\n",
       "</div>"
      ],
      "text/plain": [
       "                   ds    yhat   yhat_lower   yhat_upper\n",
       "0 2022-01-01 04:00:00     0.0     0.000000   432.783935\n",
       "1 2022-01-01 05:00:00  1180.0   547.077086  1794.878333\n",
       "2 2022-01-01 06:00:00  2099.0  1501.764087  2722.087867\n",
       "3 2022-01-01 07:00:00  2346.0  1721.253318  2980.014147\n",
       "4 2022-01-01 08:00:00  2084.0  1441.523489  2695.828008"
      ]
     },
     "execution_count": 11,
     "metadata": {},
     "output_type": "execute_result"
    }
   ],
   "source": [
    "# Create a future DataFrame with hourly intervals for the desired forecast period\n",
    "future = m.make_future_dataframe(periods=150, freq='D')\n",
    "future['hour'] = pd.to_datetime(future['ds']).dt.hour\n",
    "future['is_weekend'] = df['is_weekend']\n",
    "future['weekday'] = future['ds'].apply(is_weekend)\n",
    "future['weekend'] = ~future['ds'].apply(is_weekend)\n",
    "future['rain_amount'] = df['rain_amount']\n",
    "future['off_hour'] = future['hour'].apply(lambda x: 1 if (x >= 23) or (x <= 3) else 0)\n",
    "future = future[future['ds'].dt.hour < 23]\n",
    "future = future[future['ds'].dt.hour > 3]\n",
    "\n",
    "# Make predictions\n",
    "forecast = m.predict(future)\n",
    "forecast['yhat'] = forecast['yhat'].apply(lambda x: max(x, 0))\n",
    "forecast['yhat_lower'] = forecast['yhat_lower'].apply(lambda x: max(x, 0))\n",
    "forecast['yhat_upper'] = forecast['yhat_upper'].apply(lambda x: max(x, 0))\n",
    "forecast['yhat'] = forecast['yhat'].round()\n",
    "forecast[['ds', 'yhat', 'yhat_lower', 'yhat_upper']].head()"
   ]
  },
  {
   "cell_type": "code",
   "execution_count": 12,
   "metadata": {
    "gather": {
     "logged": 1730110530018
    },
    "jupyter": {
     "outputs_hidden": false,
     "source_hidden": false
    },
    "nteract": {
     "transient": {
      "deleting": false
     }
    }
   },
   "outputs": [
    {
     "name": "stderr",
     "output_type": "stream",
     "text": [
      "C:\\Users\\Arcega\\AppData\\Local\\Temp\\ipykernel_14848\\3794208353.py:11: FutureWarning:\n",
      "\n",
      "The behavior of `series[i:j]` with an integer-dtype index is deprecated. In a future version, this will be treated as *label-based* indexing, consistent with e.g. `series[i]` lookups. To retain the old behavior, use `series.iloc[i:j]`. To get the future behavior, use `series.loc[i:j]`.\n",
      "\n"
     ]
    },
    {
     "data": {
      "text/html": [
       "<div>\n",
       "<style scoped>\n",
       "    .dataframe tbody tr th:only-of-type {\n",
       "        vertical-align: middle;\n",
       "    }\n",
       "\n",
       "    .dataframe tbody tr th {\n",
       "        vertical-align: top;\n",
       "    }\n",
       "\n",
       "    .dataframe thead th {\n",
       "        text-align: right;\n",
       "    }\n",
       "</style>\n",
       "<table border=\"1\" class=\"dataframe\">\n",
       "  <thead>\n",
       "    <tr style=\"text-align: right;\">\n",
       "      <th></th>\n",
       "      <th>Metric</th>\n",
       "      <th>Value</th>\n",
       "    </tr>\n",
       "  </thead>\n",
       "  <tbody>\n",
       "    <tr>\n",
       "      <th>0</th>\n",
       "      <td>MSE</td>\n",
       "      <td>446872.922603</td>\n",
       "    </tr>\n",
       "    <tr>\n",
       "      <th>1</th>\n",
       "      <td>RMSE</td>\n",
       "      <td>668.485544</td>\n",
       "    </tr>\n",
       "    <tr>\n",
       "      <th>2</th>\n",
       "      <td>MAE</td>\n",
       "      <td>516.955479</td>\n",
       "    </tr>\n",
       "    <tr>\n",
       "      <th>3</th>\n",
       "      <td>R^2 Score</td>\n",
       "      <td>0.756591</td>\n",
       "    </tr>\n",
       "    <tr>\n",
       "      <th>4</th>\n",
       "      <td>MASE</td>\n",
       "      <td>1.237387</td>\n",
       "    </tr>\n",
       "  </tbody>\n",
       "</table>\n",
       "</div>"
      ],
      "text/plain": [
       "      Metric          Value\n",
       "0        MSE  446872.922603\n",
       "1       RMSE     668.485544\n",
       "2        MAE     516.955479\n",
       "3  R^2 Score       0.756591\n",
       "4       MASE       1.237387"
      ]
     },
     "execution_count": 12,
     "metadata": {},
     "output_type": "execute_result"
    }
   ],
   "source": [
    "mse = mean_squared_error(y_true=test['y'],  y_pred=test_forecast['yhat'])\n",
    "rmse = np.sqrt(mean_squared_error(y_true=test['y'], y_pred=test_forecast['yhat']))\n",
    "mae = mean_absolute_error(y_true=test['y'], y_pred=test_forecast['yhat'])\n",
    "r2 = r2_score(y_true=test['y'], y_pred=test_forecast['yhat'])\n",
    "mase = mean_absolute_scaled_error(y_true=test['y'],  y_pred=test_forecast['yhat'])\n",
    "\n",
    "prophet_eval = pd.DataFrame({\n",
    "    'Metric': ['MSE', 'RMSE', 'MAE', 'R^2 Score', 'MASE'],\n",
    "    'Value': [mse, rmse, mae, r2, mase]\n",
    "})\n",
    "\n",
    "prophet_eval"
   ]
  },
  {
   "cell_type": "markdown",
   "metadata": {
    "nteract": {
     "transient": {
      "deleting": false
     }
    }
   },
   "source": [
    "##### SHAP Implementation"
   ]
  },
  {
   "cell_type": "markdown",
   "metadata": {
    "nteract": {
     "transient": {
      "deleting": false
     }
    }
   },
   "source": [
    "###### LSTM w/ SHAP"
   ]
  },
  {
   "cell_type": "markdown",
   "metadata": {},
   "source": [
    "###### Prophet w/ SHAP\n"
   ]
  },
  {
   "cell_type": "code",
   "execution_count": null,
   "metadata": {
    "editable": false,
    "gather": {
     "logged": 1730110501282
    },
    "run_control": {
     "frozen": true
    }
   },
   "outputs": [
    {
     "name": "stderr",
     "output_type": "stream",
     "text": [
      "  7%|▋         | 7/100 [03:05<38:27, 24.81s/it]"
     ]
    }
   ],
   "source": [
    "\n",
    "# Prepare the data for SHAP\n",
    "# Use the same features that were used in the Prophet model\n",
    "shap_features = ['ds', 'year','month', 'day', 'day_of_week', 'hour','off_hour', 'rain_amount', 'weekday', 'weekend']\n",
    "\n",
    "# Extract the feature values from the test set\n",
    "shap_values_df = df[shap_features]\n",
    "\n",
    "# select random samples\n",
    "shap_values_df = shap_values_df.sample(n=100, random_state=42)\n",
    "\n",
    "def prophet_predict(data):\n",
    "    future = pd.DataFrame(data, columns=['ds', 'year','month', 'day', 'day_of_week', 'hour','off_hour', 'rain_amount', 'weekday', 'weekend'])\n",
    "    forecast = m.predict(future)\n",
    "    return forecast['yhat'].values\n",
    "\n",
    "# Initialize SHAP KernelExplainer with the Prophet model\n",
    "explainer = shap.KernelExplainer(prophet_predict, shap_values_df)\n",
    "\n",
    "# Compute SHAP values for the test set\n",
    "shap_values = explainer(shap_values_df)\n",
    "\n",
    "# Plot the SHAP summary\n",
    "shap.summary_plot(shap_values, shap_values_df, feature_names=shap_features)"
   ]
  },
  {
   "cell_type": "code",
   "execution_count": null,
   "metadata": {},
   "outputs": [
    {
     "data": {
      "image/png": "[encoded data removed]",
      "text/plain": [
       "<Figure size 800x650 with 3 Axes>"
      ]
     },
     "metadata": {},
     "output_type": "display_data"
    }
   ],
   "source": [
    "shap.plots.waterfall(shap_values[0])"
   ]
  },
  {
   "cell_type": "code",
   "execution_count": null,
   "metadata": {
    "gather": {
     "logged": 1730111677614
    },
    "jupyter": {
     "outputs_hidden": false,
     "source_hidden": false
    },
    "nteract": {
     "transient": {
      "deleting": false
     }
    }
   },
   "outputs": [
    {
     "data": {
      "image/png": "[encoded data removed]",
      "text/plain": [
       "<Figure size 800x550 with 2 Axes>"
      ]
     },
     "metadata": {},
     "output_type": "display_data"
    },
    {
     "data": {
      "image/png": "[encoded data removed]",
      "text/plain": [
       "<Figure size 800x550 with 1 Axes>"
      ]
     },
     "metadata": {},
     "output_type": "display_data"
    }
   ],
   "source": [
    "# Plot the SHAP summary\n",
    "shap.summary_plot(shap_values, shap_values_df, feature_names=shap_features)\n",
    "shap.summary_plot(shap_values, shap_values_df, feature_names=shap_features,plot_type=\"bar\")"
   ]
  },
  {
   "cell_type": "code",
   "execution_count": null,
   "metadata": {
    "gather": {
     "logged": 1729133760937
    }
   },
   "outputs": [],
   "source": [
    "# To display all columns in the DataFrame\n",
    "pd.set_option('display.max_columns', None)\n",
    "\n",
    "# Now, when you print the DataFrame, it will show all the columns\n",
    "test_forecast"
   ]
  },
  {
   "cell_type": "code",
   "execution_count": 22,
   "metadata": {
    "gather": {
     "logged": 1729134665445
    }
   },
   "outputs": [
    {
     "name": "stdout",
     "output_type": "stream",
     "text": [
      "Number of processors:  8\n"
     ]
    }
   ],
   "source": [
    "import multiprocessing as mp\n",
    "print(\"Number of processors: \", mp.cpu_count())"
   ]
  },
  {
   "cell_type": "code",
   "execution_count": null,
   "metadata": {
    "gather": {
     "logged": 1729133760969
    }
   },
   "outputs": [],
   "source": [
    "hybrid_actual"
   ]
  },
  {
   "cell_type": "code",
   "execution_count": null,
   "metadata": {},
   "outputs": [],
   "source": []
  }
 ],
 "metadata": {
  "kernel_info": {
   "name": "python310-sdkv2"
  },
  "kernelspec": {
   "display_name": "Python 3",
   "language": "python",
   "name": "python3"
  },
  "language_info": {
   "codemirror_mode": {
    "name": "ipython",
    "version": 3
   },
   "file_extension": ".py",
   "mimetype": "text/x-python",
   "name": "python",
   "nbconvert_exporter": "python",
   "pygments_lexer": "ipython3",
   "version": "3.10.11"
  },
  "microsoft": {
   "host": {
    "AzureML": {
     "notebookHasBeenCompleted": true
    }
   },
   "ms_spell_check": {
    "ms_spell_check_language": "en"
   }
  },
  "nteract": {
   "version": "nteract-front-end@1.0.0"
  }
 },
 "nbformat": 4,
 "nbformat_minor": 2
}
